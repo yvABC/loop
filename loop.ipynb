{
  "nbformat": 4,
  "nbformat_minor": 0,
  "metadata": {
    "colab": {
      "provenance": []
    },
    "kernelspec": {
      "name": "python3",
      "display_name": "Python 3"
    },
    "language_info": {
      "name": "python"
    }
  },
  "cells": [
    {
      "cell_type": "code",
      "execution_count": 3,
      "metadata": {
        "colab": {
          "base_uri": "https://localhost:8080/",
          "height": 0
        },
        "id": "1woTaeNcoGLG",
        "outputId": "916f0810-84bb-4fa7-ebe4-da9aaf9641f5"
      },
      "outputs": [
        {
          "output_type": "stream",
          "name": "stdout",
          "text": [
            "hey\n",
            "hey\n",
            "hey\n"
          ]
        }
      ],
      "source": [
        "print (\"hey\")\n",
        "print(\"hey\")\n",
        "print (\"hey\")\n"
      ]
    },
    {
      "cell_type": "code",
      "source": [
        "for i in range (1,5):\n",
        "  print (\"hey\",1)"
      ],
      "metadata": {
        "colab": {
          "base_uri": "https://localhost:8080/",
          "height": 0
        },
        "id": "_c2_ZONNp2X0",
        "outputId": "58a859c6-ae62-4ef1-94e6-cd760c0e3123"
      },
      "execution_count": 4,
      "outputs": [
        {
          "output_type": "stream",
          "name": "stdout",
          "text": [
            "hey 1\n",
            "hey 1\n",
            "hey 1\n",
            "hey 1\n"
          ]
        }
      ]
    },
    {
      "cell_type": "code",
      "source": [
        "for i in range (6,1 -1):\n",
        "  print (\"hey\" ,i)"
      ],
      "metadata": {
        "id": "UVYUZzvIqHG9"
      },
      "execution_count": 5,
      "outputs": []
    },
    {
      "cell_type": "code",
      "source": [
        "for i in (8,9):\n",
        "print(i\n"
      ],
      "metadata": {
        "colab": {
          "base_uri": "https://localhost:8080/",
          "height": 106
        },
        "id": "9LrwVrSbqHAa",
        "outputId": "b37ee0da-22e2-4500-a72d-5bc70bc47003"
      },
      "execution_count": 74,
      "outputs": [
        {
          "output_type": "error",
          "ename": "IndentationError",
          "evalue": "expected an indented block after 'for' statement on line 1 (<ipython-input-74-6b2e77f71de5>, line 2)",
          "traceback": [
            "\u001b[0;36m  File \u001b[0;32m\"<ipython-input-74-6b2e77f71de5>\"\u001b[0;36m, line \u001b[0;32m2\u001b[0m\n\u001b[0;31m    print(i)\u001b[0m\n\u001b[0m    ^\u001b[0m\n\u001b[0;31mIndentationError\u001b[0m\u001b[0;31m:\u001b[0m expected an indented block after 'for' statement on line 1\n"
          ]
        }
      ]
    },
    {
      "cell_type": "code",
      "source": [
        "x= \"hey\"\n",
        "for i in range (0,3):\n",
        "  print(i)"
      ],
      "metadata": {
        "colab": {
          "base_uri": "https://localhost:8080/",
          "height": 0
        },
        "id": "Bm7ZSjz7q0VD",
        "outputId": "e72b0f63-25e9-4604-e2f4-ce25989d3dd9"
      },
      "execution_count": 10,
      "outputs": [
        {
          "output_type": "stream",
          "name": "stdout",
          "text": [
            "0\n",
            "1\n",
            "2\n"
          ]
        }
      ]
    },
    {
      "cell_type": "code",
      "source": [
        "x=\"hey\"\n",
        "for index in range (0 ,3):\n",
        "  print(x[index])"
      ],
      "metadata": {
        "colab": {
          "base_uri": "https://localhost:8080/",
          "height": 0
        },
        "id": "krNV4JXkrb6M",
        "outputId": "d9ecd874-780f-4b08-f930-e09faa193800"
      },
      "execution_count": 19,
      "outputs": [
        {
          "output_type": "stream",
          "name": "stdout",
          "text": [
            "h\n",
            "e\n",
            "y\n"
          ]
        }
      ]
    },
    {
      "cell_type": "code",
      "source": [
        "for i in range (1,31):\n",
        "  if (i%5==0 and i%3==0):\n",
        "    print(i)"
      ],
      "metadata": {
        "colab": {
          "base_uri": "https://localhost:8080/",
          "height": 0
        },
        "id": "fgjUe6aMsge_",
        "outputId": "cc20b3f4-823f-41cd-c8d0-7c4634e97d5b"
      },
      "execution_count": 31,
      "outputs": [
        {
          "output_type": "stream",
          "name": "stdout",
          "text": [
            "15\n",
            "30\n"
          ]
        }
      ]
    },
    {
      "cell_type": "code",
      "source": [
        "for i in range (99,1,-1):\n",
        "  if(i%2==0):\n",
        "    print(i)"
      ],
      "metadata": {
        "colab": {
          "base_uri": "https://localhost:8080/",
          "height": 0
        },
        "id": "1paqD8yOsgc3",
        "outputId": "414d6df2-73e1-42f2-8b20-49c908e5643a"
      },
      "execution_count": 30,
      "outputs": [
        {
          "output_type": "stream",
          "name": "stdout",
          "text": [
            "98\n",
            "96\n",
            "94\n",
            "92\n",
            "90\n",
            "88\n",
            "86\n",
            "84\n",
            "82\n",
            "80\n",
            "78\n",
            "76\n",
            "74\n",
            "72\n",
            "70\n",
            "68\n",
            "66\n",
            "64\n",
            "62\n",
            "60\n",
            "58\n",
            "56\n",
            "54\n",
            "52\n",
            "50\n",
            "48\n",
            "46\n",
            "44\n",
            "42\n",
            "40\n",
            "38\n",
            "36\n",
            "34\n",
            "32\n",
            "30\n",
            "28\n",
            "26\n",
            "24\n",
            "22\n",
            "20\n",
            "18\n",
            "16\n",
            "14\n",
            "12\n",
            "10\n",
            "8\n",
            "6\n",
            "4\n",
            "2\n"
          ]
        }
      ]
    },
    {
      "cell_type": "code",
      "source": [
        "#1to 10\n",
        "totol=0\n",
        "\n",
        "for i in range( 1,6):\n",
        "\n",
        "\n",
        "  total  = total+1\n",
        "  print (\"total valve:\", total)\n",
        "\n"
      ],
      "metadata": {
        "colab": {
          "base_uri": "https://localhost:8080/",
          "height": 0
        },
        "id": "qw1QSnwLtpjB",
        "outputId": "87fc4f4e-97f0-43f5-a9af-f39be0b32566"
      },
      "execution_count": 44,
      "outputs": [
        {
          "output_type": "stream",
          "name": "stdout",
          "text": [
            "total valve: 7\n",
            "total valve: 8\n",
            "total valve: 9\n",
            "total valve: 10\n",
            "total valve: 11\n"
          ]
        }
      ]
    },
    {
      "cell_type": "code",
      "source": [
        "total=0\n",
        "for i in \"hey123\":\n",
        "  total = total +1\n",
        "print(\"total valve:\",total)"
      ],
      "metadata": {
        "colab": {
          "base_uri": "https://localhost:8080/",
          "height": 0
        },
        "id": "r4CgT4Z4vcxX",
        "outputId": "417b43ff-3aa9-430f-bc95-b66857f66091"
      },
      "execution_count": 43,
      "outputs": [
        {
          "output_type": "stream",
          "name": "stdout",
          "text": [
            "total valve: 6\n"
          ]
        }
      ]
    },
    {
      "cell_type": "code",
      "source": [
        "#while statmemt\n",
        "\n",
        "i=0\n",
        "while (i<10):\n",
        "  print(i)\n",
        "  i+=1"
      ],
      "metadata": {
        "colab": {
          "base_uri": "https://localhost:8080/",
          "height": 0
        },
        "id": "VENuXb80wbz-",
        "outputId": "cdbe9482-20ab-464c-d88a-edc6ed7cf106"
      },
      "execution_count": 47,
      "outputs": [
        {
          "output_type": "stream",
          "name": "stdout",
          "text": [
            "0\n",
            "1\n",
            "2\n",
            "3\n",
            "4\n",
            "5\n",
            "6\n",
            "7\n",
            "8\n",
            "9\n"
          ]
        }
      ]
    },
    {
      "cell_type": "code",
      "source": [
        "for i in range(1,5):\n",
        "  print(\"hey\")\n",
        "  for j in range (1,5):\n",
        "    print(i,j)"
      ],
      "metadata": {
        "colab": {
          "base_uri": "https://localhost:8080/",
          "height": 0
        },
        "id": "-00P4nBvxKrV",
        "outputId": "31157261-3ec0-4328-a45f-52f4304ac31b"
      },
      "execution_count": 51,
      "outputs": [
        {
          "output_type": "stream",
          "name": "stdout",
          "text": [
            "hey\n",
            "1 1\n",
            "1 2\n",
            "1 3\n",
            "1 4\n",
            "hey\n",
            "2 1\n",
            "2 2\n",
            "2 3\n",
            "2 4\n",
            "hey\n",
            "3 1\n",
            "3 2\n",
            "3 3\n",
            "3 4\n",
            "hey\n",
            "4 1\n",
            "4 2\n",
            "4 3\n",
            "4 4\n"
          ]
        }
      ]
    },
    {
      "cell_type": "code",
      "source": [
        "for i in range(1,5):\n",
        "  print(\"$\")\n",
        "  for j in range (1,5):\n",
        "    print(\"*\")"
      ],
      "metadata": {
        "colab": {
          "base_uri": "https://localhost:8080/",
          "height": 0
        },
        "id": "tom-Twfeyjxe",
        "outputId": "46bc504a-fd43-47a4-f78b-d130b9090dcd"
      },
      "execution_count": 55,
      "outputs": [
        {
          "output_type": "stream",
          "name": "stdout",
          "text": [
            "$\n",
            "*\n",
            "*\n",
            "*\n",
            "*\n",
            "$\n",
            "*\n",
            "*\n",
            "*\n",
            "*\n",
            "$\n",
            "*\n",
            "*\n",
            "*\n",
            "*\n",
            "$\n",
            "*\n",
            "*\n",
            "*\n",
            "*\n"
          ]
        }
      ]
    },
    {
      "cell_type": "code",
      "source": [
        "print (\"yash\")\n",
        "print (\"verma\")"
      ],
      "metadata": {
        "colab": {
          "base_uri": "https://localhost:8080/",
          "height": 0
        },
        "id": "fOOD-z3Vzmuq",
        "outputId": "56bfc528-ebde-4e7a-c708-cfb568015743"
      },
      "execution_count": 54,
      "outputs": [
        {
          "output_type": "stream",
          "name": "stdout",
          "text": [
            "yash\n",
            "verma\n"
          ]
        }
      ]
    },
    {
      "cell_type": "code",
      "source": [
        "for i in range (1,5):\n",
        "  print (\"hey\")\n",
        "  for j in range (1,5):\n",
        "    print(\"*\",end= \" \")\n",
        "    print(\"\")"
      ],
      "metadata": {
        "id": "8djg0eGZz2S2",
        "outputId": "a4c2965f-6416-4d4b-de6a-34a8b9fd140f",
        "colab": {
          "base_uri": "https://localhost:8080/",
          "height": 0
        }
      },
      "execution_count": 58,
      "outputs": [
        {
          "output_type": "stream",
          "name": "stdout",
          "text": [
            "hey\n",
            "* \n",
            "* \n",
            "* \n",
            "* \n",
            "hey\n",
            "* \n",
            "* \n",
            "* \n",
            "* \n",
            "hey\n",
            "* \n",
            "* \n",
            "* \n",
            "* \n",
            "hey\n",
            "* \n",
            "* \n",
            "* \n",
            "* \n"
          ]
        }
      ]
    },
    {
      "cell_type": "code",
      "source": [
        "for i in range(1,5):\n",
        "  for j in range(1,6):\n",
        "    print (j, end=\" \")\n",
        "\n",
        "\n",
        "\n",
        "    print (\" \")"
      ],
      "metadata": {
        "id": "AAK-A7lN0uza",
        "outputId": "47e49e7e-e173-4477-fcbf-0633f2fb0200",
        "colab": {
          "base_uri": "https://localhost:8080/",
          "height": 0
        }
      },
      "execution_count": 62,
      "outputs": [
        {
          "output_type": "stream",
          "name": "stdout",
          "text": [
            "1  \n",
            "2  \n",
            "3  \n",
            "4  \n",
            "5  \n",
            "1  \n",
            "2  \n",
            "3  \n",
            "4  \n",
            "5  \n",
            "1  \n",
            "2  \n",
            "3  \n",
            "4  \n",
            "5  \n",
            "1  \n",
            "2  \n",
            "3  \n",
            "4  \n",
            "5  \n"
          ]
        }
      ]
    },
    {
      "cell_type": "code",
      "source": [
        "for i in range(1, 6):\n",
        "  for j in range (5,0, -2):\n",
        "    print(j,end= \" \")\n",
        "\n",
        "    print(\" \")\n"
      ],
      "metadata": {
        "id": "j5yGzx8O1xDR",
        "outputId": "a61acbfb-2dec-4830-b92c-36e21787a176",
        "colab": {
          "base_uri": "https://localhost:8080/",
          "height": 0
        }
      },
      "execution_count": 68,
      "outputs": [
        {
          "output_type": "stream",
          "name": "stdout",
          "text": [
            "5  \n",
            "3  \n",
            "1  \n",
            "5  \n",
            "3  \n",
            "1  \n",
            "5  \n",
            "3  \n",
            "1  \n",
            "5  \n",
            "3  \n",
            "1  \n",
            "5  \n",
            "3  \n",
            "1  \n"
          ]
        }
      ]
    },
    {
      "cell_type": "code",
      "source": [
        "for i in range(1,6):\n",
        "  for j in range ( 1,i+1):\n",
        "    print(\"*\", end=\" \")\n",
        "\n",
        "    print(\" \")"
      ],
      "metadata": {
        "id": "5YoZNYgh2jHM",
        "outputId": "ba791a5e-c172-486e-8116-dad73e215fd4",
        "colab": {
          "base_uri": "https://localhost:8080/",
          "height": 0
        }
      },
      "execution_count": 73,
      "outputs": [
        {
          "output_type": "stream",
          "name": "stdout",
          "text": [
            "*  \n",
            "*  \n",
            "*  \n",
            "*  \n",
            "*  \n",
            "*  \n",
            "*  \n",
            "*  \n",
            "*  \n",
            "*  \n",
            "*  \n",
            "*  \n",
            "*  \n",
            "*  \n",
            "*  \n"
          ]
        }
      ]
    }
  ]
}